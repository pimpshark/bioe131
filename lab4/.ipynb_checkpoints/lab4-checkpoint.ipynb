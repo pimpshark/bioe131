{
 "cells": [
  {
   "cell_type": "markdown",
   "metadata": {},
   "source": [
    "# Lab 4"
   ]
  },
  {
   "cell_type": "markdown",
   "metadata": {},
   "source": [
    "## Creating Database"
   ]
  },
  {
   "cell_type": "markdown",
   "metadata": {},
   "source": [
    "I plan on creating one database for every species, so there will be a total of three databases.\n",
    "\n",
    "Each database will have three tables, a gene table, an enzyme table, a pathway table, and three association tables. The gene table will have columns for name, description, organism, and sequence. The enzyme table will have a name column, function column, and EC column. The pathway table will have columns for id, name, and description. The first association table will have columns for gene id and pathway id. The second will have columns for gene id and enzyme name. And the third will have columns for enzyme name and pathway id. This will be a many-to-many relationship, as multiple genes can make enzyme and many pathways can involve similar genes. There will also be many pathway ids per different gene in the association tables with genes, as with enzymes."
   ]
  },
  {
   "cell_type": "code",
   "execution_count": 1,
   "metadata": {},
   "outputs": [],
   "source": [
    "import sqlite3\n",
    "from Bio import Entrez\n",
    "Entrez.email='rmandla@berkeley.edu'"
   ]
  },
  {
   "cell_type": "code",
   "execution_count": 82,
   "metadata": {},
   "outputs": [],
   "source": [
    "conn = sqlite3.connect('my.db')\n",
    "c = conn.cursor()\n",
    "\n",
    "c.execute(\"\"\"CREATE TABLE genes (id TEXT,name TEXT,description TEXT,organism TEXT,sequence TEXT);\"\"\")\n",
    "c.execute(\"\"\"CREATE TABLE pathway (id INT,name TEXT,description TEXT);\"\"\")\n",
    "c.execute(\"\"\"CREATE TABLE enzymes (EC TEXT,name TEXT,function TEXT);\"\"\")\n",
    "c.execute(\"\"\"CREATE TABLE gp (geneID TEXT,pathwayID INT);\"\"\")\n",
    "c.execute(\"\"\"CREATE TABLE ge (geneID TEXT,EC TEXT);\"\"\")\n",
    "c.execute(\"\"\"CREATE TABLE pe (EC TEXT,pathwayID INT);\"\"\")\n",
    "\n",
    "conn.commit()"
   ]
  },
  {
   "cell_type": "markdown",
   "metadata": {},
   "source": [
    "## Create Pathway table"
   ]
  },
  {
   "cell_type": "code",
   "execution_count": 32,
   "metadata": {},
   "outputs": [],
   "source": [
    "c.execute(\"\"\"INSERT INTO pathway (id,\n",
    "                                  name,\n",
    "                                  description)\n",
    "                        VALUES (1,\n",
    "                                'glycolysis',\n",
    "                                'convert glucose to pyruvate');\"\"\")\n",
    "c.execute(\"\"\"INSERT INTO pathway (id,\n",
    "                                  name,\n",
    "                                  description)\n",
    "                        VALUES (2,\n",
    "                                'citric acid cycle',\n",
    "                                'create ATP and NADPH from pyruvate');\"\"\")\n",
    "c.execute(\"\"\"INSERT INTO pathway (id,\n",
    "                                  name,\n",
    "                                  description)\n",
    "                        VALUES (3,\n",
    "                                'phosphate pentose pathway',\n",
    "                                'create NADPH and ribose 5-phosphate');\"\"\")\n",
    "conn.commit()"
   ]
  },
  {
   "cell_type": "markdown",
   "metadata": {},
   "source": [
    "## Create Enzymes table"
   ]
  },
  {
   "cell_type": "code",
   "execution_count": 33,
   "metadata": {},
   "outputs": [],
   "source": [
    "c.execute(\"\"\"INSERT INTO enzymes (EC,\n",
    "                                name,\n",
    "                                function)\n",
    "                        VALUES ('2.7.1.1',\n",
    "                                'hexokinase',\n",
    "                                'turn glucose to g6p');\"\"\")\n",
    "c.execute(\"\"\"INSERT INTO enzymes (EC,\n",
    "                                name,\n",
    "                                function)\n",
    "                        VALUES ('5.3.1.9',\n",
    "                                'glucose-6-phosphate isomerase',\n",
    "                                'convert g6p to f6p');\"\"\")\n",
    "c.execute(\"\"\"INSERT INTO enzymes (EC,\n",
    "                                name,\n",
    "                                function)\n",
    "                        VALUES ('2.7.1.56',\n",
    "                                'phosphofructokinase-1',\n",
    "                                'turn f6p to fructose 1,6 bisphosphate');\"\"\")\n",
    "c.execute(\"\"\"INSERT INTO enzymes (EC,\n",
    "                                name,\n",
    "                                function)\n",
    "                        VALUES ('2.7.1.40',\n",
    "                                'pyruvate kinase',\n",
    "                                'turn PEP to pyruvate');\"\"\")\n",
    "c.execute(\"\"\"INSERT INTO enzymes (EC,\n",
    "name,\n",
    "function)\n",
    "VALUES ('4.2.1.3',\n",
    "'aconitase',\n",
    "'turn citrate to isocitrate');\"\"\")\n",
    "c.execute(\"\"\"INSERT INTO enzymes (EC,\n",
    "                                name,\n",
    "                                function)\n",
    "                                VALUES ('4.2.1.2',\n",
    "                                'fumarase',\n",
    "                                'convert fumarate to malate');\"\"\")\n",
    "c.execute(\"\"\"INSERT INTO enzymes (EC,\n",
    "                                name,\n",
    "                                function)\n",
    "                                VALUES ('1.1.1.37',\n",
    "                                'malate dehydrogenase',\n",
    "                                'convert malate to oxaloacetate');\"\"\")\n",
    "c.execute(\"\"\"INSERT INTO enzymes (EC,\n",
    "                                name,\n",
    "                                function)\n",
    "                                VALUES ('2.3.3.1',\n",
    "                                'citrate synthase',\n",
    "                                'convert oxaloacetate to citrate');\"\"\")\n",
    "c.execute(\"\"\"INSERT INTO enzymes (EC,\n",
    "                                name,\n",
    "                                function)\n",
    "                                VALUES ('1.1.1.49',\n",
    "                                'glucose-6-phosphate dehydrogenase',\n",
    "                                'convert g6p to 6-phosphogluconolactone');\"\"\")\n",
    "c.execute(\"\"\"INSERT INTO enzymes (EC,\n",
    "                                name,\n",
    "                                function)\n",
    "                                VALUES ('3.1.1.17',\n",
    "                                'gluconolactonase',\n",
    "                                'convert 6-phosphogluconolactone to 6-phosphogluconate');\"\"\")\n",
    "c.execute(\"\"\"INSERT INTO enzymes (EC,\n",
    "                                name,\n",
    "                                function)\n",
    "                                VALUES ('1.1.1.44',\n",
    "                                '6-phosphogluconate dehydrogenase',\n",
    "                                'convert 6-phosphogluconate to ribulose 5-phosphate');\"\"\")\n",
    "conn.commit()"
   ]
  },
  {
   "cell_type": "code",
   "execution_count": 34,
   "metadata": {},
   "outputs": [],
   "source": [
    "c.execute(\"\"\"INSERT INTO enzymes (EC,\n",
    "                                name,\n",
    "                                function)\n",
    "                                VALUES ('5.1.3.1',\n",
    "                                'ribulose 5-phosphate epimerase',\n",
    "                                'convert ribulose 5-phosphate to xylulose 5-phosphate');\"\"\")\n",
    "conn.commit()"
   ]
  },
  {
   "cell_type": "markdown",
   "metadata": {},
   "source": [
    "## Create Genes table"
   ]
  },
  {
   "cell_type": "code",
   "execution_count": 35,
   "metadata": {},
   "outputs": [],
   "source": [
    "species = ['homo sapiens', 'drosophila', 'e. coli']\n",
    "enzymes = ['hexokinase','glucose-6-phosphate isomerase','phosphofructokinase-1','pyruvate kinase',\n",
    "          'aconitase','fumarase','malate dehydrogenase','citrate synthase',\n",
    "          'glucose-6-phosphate dehydrogenase','gluconolactonase','6-phosphogluconate dehydrogenase','ribulose 5-phosphate epimerase']\n",
    "genesh=['HXK1','GPI','PFKP','PKM',\n",
    "       'ACO1','FH','MDH1','CS',\n",
    "       'G6PD','GNL','PGD','RPE']\n"
   ]
  },
  {
   "cell_type": "code",
   "execution_count": 57,
   "metadata": {},
   "outputs": [],
   "source": [
    "sel = []\n",
    "ids = []\n",
    "for i in genesh:\n",
    "    temp=0\n",
    "    all = []\n",
    "    terms=species[0] + '[ORGN] ' + i\n",
    "    searched = Entrez.esearch(db='nucleotide',term=terms,\n",
    "                 sort='relevance',idtype='acc')\n",
    "    for y in Entrez.read(searched)['IdList']:\n",
    "        #handle = Entrez.efetch(db='nucleotide',id=y,rettype='fasta',retmode='text')\n",
    "        #all.append(handle.read())\n",
    "        ids.append(y)\n",
    "        break\n",
    "    #sel.append(all[0])\n",
    "    #if len(all) == 0:\n",
    "    #    print('\\n\\nERROR   ' + i + '\\n\\n')"
   ]
  },
  {
   "cell_type": "code",
   "execution_count": 37,
   "metadata": {},
   "outputs": [],
   "source": [
    "seq = []\n",
    "headers = []\n",
    "for i in sel:\n",
    "    sequence = i.split('\\n')[1:]\n",
    "    header = i.split('\\n')[0]\n",
    "    headers.append(header)\n",
    "    seq.append(''.join(sequence))"
   ]
  },
  {
   "cell_type": "code",
   "execution_count": 38,
   "metadata": {},
   "outputs": [
    {
     "data": {
      "text/plain": [
       "['>NG_012077.1 Homo sapiens hexokinase 1 (HK1), RefSeqGene (LRG_365) on chromosome 10',\n",
       " '>NM_001184722.1 Homo sapiens glucose-6-phosphate isomerase (GPI), transcript variant 1, mRNA',\n",
       " '>KJ905857.1 Synthetic construct Homo sapiens clone ccsbBroadEn_15527 PFKP gene, encodes complete protein',\n",
       " '>KR710113.1 Synthetic construct Homo sapiens clone CCSBHm_00009785 PKM (PKM) mRNA, encodes complete protein',\n",
       " '>KJ890616.1 Synthetic construct Homo sapiens clone ccsbBroadEn_00010 ACO1 gene, encodes complete protein',\n",
       " '>KR709774.1 Synthetic construct Homo sapiens clone CCSBHm_00005905 FH (FH) mRNA, encodes complete protein',\n",
       " '>CR457405.1 Homo sapiens full open reading frame cDNA clone RZPDo834A0714D for gene MDH1, malate dehydrogenase 1, NAD (soluble); complete cds, incl. stopcodon',\n",
       " '>KJ901360.1 Synthetic construct Homo sapiens clone ccsbBroadEn_10754 CS gene, encodes complete protein',\n",
       " \">L44140.1 Homo sapiens chromosome X region from filamin (FLN) gene to glucose-6-phosphate dehydrogenase (G6PD) gene, complete cds's\",\n",
       " '>NM_001282849.1 Homo sapiens regucalcin (RGN), transcript variant 4, mRNA',\n",
       " '>KJ891789.1 Synthetic construct Homo sapiens clone ccsbBroadEn_01183 PGD gene, encodes complete protein',\n",
       " '>KJ892020.1 Synthetic construct Homo sapiens clone ccsbBroadEn_01414 RPE gene, encodes complete protein']"
      ]
     },
     "execution_count": 38,
     "metadata": {},
     "output_type": "execute_result"
    }
   ],
   "source": [
    "headers"
   ]
  },
  {
   "cell_type": "markdown",
   "metadata": {},
   "source": [
    "id INT,name TEXT,description TEXT,organism TEXT,sequence TEXT,chromosome TEXT);\"\"\")"
   ]
  },
  {
   "cell_type": "code",
   "execution_count": 39,
   "metadata": {},
   "outputs": [
    {
     "name": "stdout",
     "output_type": "stream",
     "text": [
      "0\n",
      "1\n",
      "2\n",
      "3\n",
      "4\n",
      "5\n",
      "6\n",
      "7\n",
      "8\n",
      "9\n",
      "10\n",
      "11\n"
     ]
    }
   ],
   "source": [
    "for i in range(len(genesh)):\n",
    "    print(i)\n",
    "    \n",
    "    c.execute(\"INSERT INTO genes (id,name,description,organism,sequence) VALUES (?,?,?,'homo sapiens',?)\",\n",
    "             (ids[i],genesh[i],enzymes[i],seq[i]))\n",
    "conn.commit()"
   ]
  },
  {
   "cell_type": "code",
   "execution_count": 59,
   "metadata": {},
   "outputs": [],
   "source": [
    "sel = []\n",
    "ids = []\n",
    "for i in enzymes:\n",
    "    all = []\n",
    "    terms=species[1] + '[ORGN] ' + i\n",
    "    searched = Entrez.esearch(db='nucleotide',term=terms,\n",
    "                 sort='relevance',idtype='acc')\n",
    "    for y in Entrez.read(searched)['IdList']:\n",
    "        handle = Entrez.efetch(db='nucleotide',id=y,rettype='fasta',retmode='text')\n",
    "        all.append(handle.read())\n",
    "        print(y)\n",
    "        ids.append(y)\n",
    "        break\n",
    "    sel.append(all[0])\n",
    "    if len(all) == 0:\n",
    "        print('\\n\\nERROR   ' + i + '\\n\\n')"
   ]
  },
  {
   "cell_type": "code",
   "execution_count": 52,
   "metadata": {},
   "outputs": [],
   "source": [
    "seq = []\n",
    "headers = []\n",
    "for i in sel:\n",
    "    sequence = i.split('\\n')[1:]\n",
    "    header = i.split('\\n')[0]\n",
    "    headers.append(header)\n",
    "    seq.append(''.join(sequence))"
   ]
  },
  {
   "cell_type": "code",
   "execution_count": 53,
   "metadata": {},
   "outputs": [
    {
     "name": "stdout",
     "output_type": "stream",
     "text": [
      "0\n",
      "1\n",
      "2\n",
      "3\n",
      "4\n",
      "5\n",
      "6\n",
      "7\n",
      "8\n",
      "9\n",
      "10\n",
      "11\n"
     ]
    }
   ],
   "source": [
    "for i in range(len(genesh)):\n",
    "    print(i)\n",
    "    \n",
    "    c.execute(\"INSERT INTO genes (id,name,description,organism,sequence) VALUES (?,?,?,'drosophila',?)\",\n",
    "             (ids[i],genesh[i],enzymes[i],seq[i]))\n",
    "conn.commit()"
   ]
  },
  {
   "cell_type": "code",
   "execution_count": 56,
   "metadata": {},
   "outputs": [
    {
     "name": "stdout",
     "output_type": "stream",
     "text": [
      "0\n",
      "1\n",
      "2\n",
      "3\n",
      "4\n",
      "5\n",
      "6\n",
      "7\n",
      "8\n",
      "9\n",
      "10\n",
      "11\n"
     ]
    }
   ],
   "source": [
    "sel = []\n",
    "ids = []\n",
    "for i in enzymes:\n",
    "    temp=0\n",
    "    all = []\n",
    "    terms=species[2] + '[ORGN] ' + i\n",
    "    searched = Entrez.esearch(db='nucleotide',term=terms,\n",
    "                 sort='relevance',idtype='acc')\n",
    "    for y in Entrez.read(searched)['IdList']:\n",
    "        handle = Entrez.efetch(db='nucleotide',id=y,rettype='fasta',retmode='text')\n",
    "        all.append(handle.read())\n",
    "        ids.append(y)\n",
    "        break\n",
    "    sel.append(all[0])\n",
    "    if len(all) == 0:\n",
    "        print('\\n\\nERROR   ' + i + '\\n\\n')\n",
    "seq = []\n",
    "headers = []\n",
    "for i in sel:\n",
    "    sequence = i.split('\\n')[1:]\n",
    "    header = i.split('\\n')[0]\n",
    "    headers.append(header)\n",
    "    seq.append(''.join(sequence))\n",
    "for i in range(len(genesh)):\n",
    "    print(i)\n",
    "    \n",
    "    c.execute(\"INSERT INTO genes (id,name,description,organism,sequence) VALUES (?,?,?,'e. coli',?)\",\n",
    "             (ids[i],genesh[i],enzymes[i],seq[i]))\n",
    "conn.commit()"
   ]
  },
  {
   "cell_type": "markdown",
   "metadata": {},
   "source": [
    "## Create association tables"
   ]
  },
  {
   "cell_type": "code",
   "execution_count": 70,
   "metadata": {},
   "outputs": [
    {
     "data": {
      "text/plain": [
       "['X63694.1', 'UDGV01000017.1', 'M23181.1', 'HG738867.1']"
      ]
     },
     "execution_count": 70,
     "metadata": {},
     "output_type": "execute_result"
    }
   ],
   "source": [
    "ids[0:4]\n",
    "ids[4:8]\n",
    "ids[8:12]\n",
    "ids[12:16]\n",
    "ids[16:20]\n",
    "ids[20:24]\n",
    "ids[24:28]\n",
    "ids[28:32]\n",
    "ids[32:37]"
   ]
  },
  {
   "cell_type": "code",
   "execution_count": 94,
   "metadata": {},
   "outputs": [],
   "source": [
    "one=ids[0:4]+ids[12:16]+ids[24:28]\n",
    "two=ids[4:8]+ids[16:20]+ids[28:32]\n",
    "three=ids[8:12]+ids[20:24]+ids[32:37]"
   ]
  },
  {
   "cell_type": "code",
   "execution_count": 93,
   "metadata": {},
   "outputs": [
    {
     "name": "stdout",
     "output_type": "stream",
     "text": [
      "NG_012077.1\n",
      "NM_001184722.1\n",
      "KJ905857.1\n",
      "KR710113.1\n",
      "NM_001272455.2\n",
      "XM_023313082.1\n",
      "NT_033778.4\n",
      "BK008741.1\n",
      "GG771780.1\n",
      "AFAV01000083.1\n",
      "X02519.1\n",
      "HG738867.1\n"
     ]
    }
   ],
   "source": [
    "for i in one:\n",
    "    print(str(i))\n",
    "    c.execute(\"INSERT INTO gp (geneID,pathwayID) VALUES (?,1);\",(i,))\n",
    "conn.commit()"
   ]
  },
  {
   "cell_type": "code",
   "execution_count": 95,
   "metadata": {},
   "outputs": [
    {
     "name": "stdout",
     "output_type": "stream",
     "text": [
      "KJ890616.1\n",
      "KR709774.1\n",
      "CR457405.1\n",
      "KJ901360.1\n",
      "NM_001299190.1\n",
      "CH940653.1\n",
      "NM_001298874.1\n",
      "AE014298.5\n",
      "LRXP01000004.1\n",
      "CP003034.1\n",
      "M24777.1\n",
      "M28988.1\n",
      "L44140.1\n",
      "NM_001282849.1\n",
      "KJ891789.1\n",
      "KJ892020.1\n",
      "AY364534.1\n",
      "NW_016039823.1\n",
      "AY687279.1\n",
      "AE013599.5\n",
      "X63694.1\n",
      "UDGV01000017.1\n",
      "M23181.1\n",
      "HG738867.1\n"
     ]
    }
   ],
   "source": [
    "for i in two:\n",
    "    c.execute(\"INSERT INTO gp (geneID,pathwayID) VALUES (?,2);\",(i,))\n",
    "\n",
    "for i in three:\n",
    "    c.execute(\"INSERT INTO gp (geneID,pathwayID) VALUES (?,3);\",(i,))\n",
    "conn.commit()"
   ]
  },
  {
   "cell_type": "code",
   "execution_count": 97,
   "metadata": {},
   "outputs": [],
   "source": [
    "ec=['2.7.1.1','5.3.1.9','2.7.1.56','2.7.1.40',\n",
    "   '4.2.1.3','4.2.1.2','1.1.1.37','2.3.3.1',\n",
    "   '1.1.1.49','3.1.1.17','1.1.1.44','5.1.3.1']"
   ]
  },
  {
   "cell_type": "code",
   "execution_count": 101,
   "metadata": {},
   "outputs": [],
   "source": [
    "fir=ids[0:12]\n",
    "sec=ids[12:24]\n",
    "thir=ids[24:37]"
   ]
  },
  {
   "cell_type": "code",
   "execution_count": 104,
   "metadata": {},
   "outputs": [],
   "source": [
    "for i in range(len(fir)):\n",
    "    c.execute(\"INSERT INTO ge (geneID,EC) VALUES (?,?);\",(fir[i],ec[i]))\n",
    "for i in range(len(fir)):\n",
    "    c.execute(\"INSERT INTO ge (geneID,EC) VALUES (?,?);\",(sec[i],ec[i]))\n",
    "for i in range(len(fir)):\n",
    "    c.execute(\"INSERT INTO ge (geneID,EC) VALUES (?,?);\",(thir[i],ec[i]))\n",
    "conn.commit()"
   ]
  },
  {
   "cell_type": "code",
   "execution_count": 106,
   "metadata": {},
   "outputs": [],
   "source": [
    "for i in ec[0:4]:\n",
    "    c.execute(\"INSERT INTO pe (EC,pathwayID) VALUES (?,1);\",(i,))\n",
    "for i in ec[4:8]:\n",
    "    c.execute(\"INSERT INTO pe (EC,pathwayID) VALUES (?,2);\",(i,))\n",
    "for i in ec[9:13]:\n",
    "    c.execute(\"INSERT INTO pe (EC,pathwayID) VALUES (?,3);\",(i,))\n",
    "conn.commit()"
   ]
  }
 ],
 "metadata": {
  "kernelspec": {
   "display_name": "Python 3",
   "language": "python",
   "name": "python3"
  },
  "language_info": {
   "codemirror_mode": {
    "name": "ipython",
    "version": 3
   },
   "file_extension": ".py",
   "mimetype": "text/x-python",
   "name": "python",
   "nbconvert_exporter": "python",
   "pygments_lexer": "ipython3",
   "version": "3.5.2"
  }
 },
 "nbformat": 4,
 "nbformat_minor": 2
}
