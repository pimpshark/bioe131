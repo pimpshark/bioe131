{
 "cells": [
  {
   "cell_type": "markdown",
   "metadata": {},
   "source": [
    "# Lab 5"
   ]
  },
  {
   "cell_type": "markdown",
   "metadata": {},
   "source": [
    "## RNA Folding Simulation"
   ]
  },
  {
   "cell_type": "markdown",
   "metadata": {},
   "source": [
    "### This lab focuses on the creation of a 3D RNA structure from an input of a nucleotide sequence using a predictive algorithm from the RNAfold library. \n",
    "\n",
    "\n",
    "Sequences pulled from:\n",
    "https://www.nature.com/articles/nbt1155"
   ]
  },
  {
   "cell_type": "markdown",
   "metadata": {},
   "source": [
    "## Part 1\n",
    "Getting sequence data from figures YES-1 in 2A, NOT-1 in 4A, AND-1 in 5A, and OR-1 in 6A"
   ]
  },
  {
   "cell_type": "code",
   "execution_count": 1,
   "metadata": {},
   "outputs": [],
   "source": [
    "yes='GGGCGACCCUGAUGAGCUUGAGUUUAGCUCGUCACUGUCCAGGUUCAAUCAGGCGAAACGGUGAAAGCCGUAGGUUGCCC'\n",
    "no='GGCAGGUACAUACAGCUGAUGAGUCCCAAAUAGGACGAAACGCGACACACACCACUAAACCGUGCAGUGUUUUGCGUCCUGUAUUCCACUGC'\n",
    "an='GGGCGACCCUGAUGAGCUUGGUUUAGUAUUUACAGCUCCAUACAUGAGGUGUUAUCCCUAUGCAAGUUCGAUCAGGCGAAACGGUGAAAGCCGUAGGUUGCCCAGAGACAAU'\n",
    "or1='GGGCGACCCUGAUGAGCUUGGUUGAGUAUUUACAGCUCCAUACAUGAGGUGUUCUCCCUACGCAAGUUCGAUCAGGCGAAACGGUGAAAGCCGUAGGUUGCCC'\n",
    "total=[yes,no,an,or1]"
   ]
  },
  {
   "cell_type": "markdown",
   "metadata": {},
   "source": [
    "Make a table with name, start/end of OBS-1, start/end of OBS-2 (NA if none), and start/end of red regions"
   ]
  },
  {
   "cell_type": "code",
   "execution_count": 2,
   "metadata": {},
   "outputs": [],
   "source": [
    "import pandas as pd\n",
    "import subprocess"
   ]
  },
  {
   "cell_type": "code",
   "execution_count": 3,
   "metadata": {},
   "outputs": [],
   "source": [
    "d={'Name':['YES-1','NOT-1','AND-1','OR-1'],\n",
    "  'OBS-1 Start-End':['26-48','44-66','30-45','27-46'],\n",
    "  'OBS-2 Start-End':[None,None,'49-64','47-66'],\n",
    "  'Red Start-End':['16-21;49-54','40-43;74-77','16-23;70-77','16-26;67-77']}"
   ]
  },
  {
   "cell_type": "code",
   "execution_count": 4,
   "metadata": {},
   "outputs": [],
   "source": [
    "riboswitch=pd.DataFrame(data=d)"
   ]
  },
  {
   "cell_type": "code",
   "execution_count": 5,
   "metadata": {},
   "outputs": [
    {
     "data": {
      "text/html": [
       "<div>\n",
       "<style scoped>\n",
       "    .dataframe tbody tr th:only-of-type {\n",
       "        vertical-align: middle;\n",
       "    }\n",
       "\n",
       "    .dataframe tbody tr th {\n",
       "        vertical-align: top;\n",
       "    }\n",
       "\n",
       "    .dataframe thead th {\n",
       "        text-align: right;\n",
       "    }\n",
       "</style>\n",
       "<table border=\"1\" class=\"dataframe\">\n",
       "  <thead>\n",
       "    <tr style=\"text-align: right;\">\n",
       "      <th></th>\n",
       "      <th>Name</th>\n",
       "      <th>OBS-1 Start-End</th>\n",
       "      <th>OBS-2 Start-End</th>\n",
       "      <th>Red Start-End</th>\n",
       "    </tr>\n",
       "  </thead>\n",
       "  <tbody>\n",
       "    <tr>\n",
       "      <th>0</th>\n",
       "      <td>YES-1</td>\n",
       "      <td>26-48</td>\n",
       "      <td>None</td>\n",
       "      <td>16-21;49-54</td>\n",
       "    </tr>\n",
       "    <tr>\n",
       "      <th>1</th>\n",
       "      <td>NOT-1</td>\n",
       "      <td>44-66</td>\n",
       "      <td>None</td>\n",
       "      <td>40-43;74-77</td>\n",
       "    </tr>\n",
       "    <tr>\n",
       "      <th>2</th>\n",
       "      <td>AND-1</td>\n",
       "      <td>30-45</td>\n",
       "      <td>49-64</td>\n",
       "      <td>16-23;70-77</td>\n",
       "    </tr>\n",
       "    <tr>\n",
       "      <th>3</th>\n",
       "      <td>OR-1</td>\n",
       "      <td>27-46</td>\n",
       "      <td>47-66</td>\n",
       "      <td>16-26;67-77</td>\n",
       "    </tr>\n",
       "  </tbody>\n",
       "</table>\n",
       "</div>"
      ],
      "text/plain": [
       "    Name OBS-1 Start-End OBS-2 Start-End Red Start-End\n",
       "0  YES-1           26-48            None   16-21;49-54\n",
       "1  NOT-1           44-66            None   40-43;74-77\n",
       "2  AND-1           30-45           49-64   16-23;70-77\n",
       "3   OR-1           27-46           47-66   16-26;67-77"
      ]
     },
     "execution_count": 5,
     "metadata": {},
     "output_type": "execute_result"
    }
   ],
   "source": [
    "riboswitch"
   ]
  },
  {
   "attachments": {},
   "cell_type": "markdown",
   "metadata": {},
   "source": [
    "# Part 2\n",
    "Testing RNAfold and RNAplot in terminal to see if output works...\n",
    "![my_image](images/scr.png)"
   ]
  },
  {
   "cell_type": "markdown",
   "metadata": {},
   "source": [
    "after confirming that it works in terminal, will create a python function to automate the process using subprocess"
   ]
  },
  {
   "cell_type": "code",
   "execution_count": 8,
   "metadata": {},
   "outputs": [],
   "source": [
    "def rna(sequence,c=0):\n",
    "    #take in a rna sequence, and create a rna.ps file in the working directory\n",
    "    \n",
    "    if c != 0:\n",
    "        command=['RNAfold', '--constraint']\n",
    "        entire = sequence + '\\n' + c\n",
    "    else:\n",
    "        command=['RNAfold']\n",
    "        entire = sequence\n",
    "    p=subprocess.run(command,\n",
    "                    input=bytes(entire,'ascii'),\n",
    "                    stdout=subprocess.PIPE,\n",
    "                    stderr=subprocess.PIPE)\n",
    "    print(p.stderr.decode())\n",
    "    subprocess.run(['RNAplot','-o','svg'],\n",
    "                  input=bytes(p.stdout.decode(),'ascii'),\n",
    "                  stderr=subprocess.PIPE)\n",
    "    return "
   ]
  },
  {
   "cell_type": "code",
   "execution_count": 9,
   "metadata": {},
   "outputs": [
    {
     "name": "stdout",
     "output_type": "stream",
     "text": [
      "\n"
     ]
    }
   ],
   "source": [
    "rna(yes)"
   ]
  },
  {
   "attachments": {},
   "cell_type": "markdown",
   "metadata": {},
   "source": [
    "### YES1\n",
    "![yes1](images/yes1.png)"
   ]
  },
  {
   "cell_type": "markdown",
   "metadata": {},
   "source": [
    "This does not look exactly like what was obtained in the paper, as the paper had three main stems rather than the four in this model.Stem 1 is the same, Stem III is the same, but Stem IV in the paper has been turned into two stems in this figure. The temperature used was 37&deg;C, with a free energy value based on the partition function at -35.6 $kcal$ $*$ $mol^{-1}$.\n",
    "\n",
    "The Red regions are also not overlapping in this structure, just as they aren't in the paper.\n",
    "\n",
    "One possible reason for this is that the inactive structures were computed to be less stable than their active structues, while this algorithm is simply finding the most stable conformation from the sequence given. "
   ]
  },
  {
   "cell_type": "code",
   "execution_count": 10,
   "metadata": {},
   "outputs": [
    {
     "name": "stdout",
     "output_type": "stream",
     "text": [
      "\n"
     ]
    }
   ],
   "source": [
    "rna(no)"
   ]
  },
  {
   "attachments": {},
   "cell_type": "markdown",
   "metadata": {},
   "source": [
    "### Not1\n",
    "![not1](images/not1.svg)"
   ]
  },
  {
   "cell_type": "markdown",
   "metadata": {},
   "source": [
    "This structure looks very similar to that obtained in the paper. This structure has the correct number of stems and the stems have the same base pairings, as far as I can tell. The only thing that looks different is the core, but they are actually the same, and that this rendering is just different in appearance than the one in the paper. The RED regions of the RNA are also correctly base-paired, as they should be.\n",
    "\n",
    "This makes sense because we would expect that this riboswitch should be more stable in the active, unbound state than it is in the inactive, bound state. And since this algorithm calculates the most stable state, it would correctly calculate this one. This is the opposite of the YES-1, where it was less stable in its unbound, inactive state. As far as I can tell, the temp used is 37&deg;C also, but the free energy value is now -30.55 $kcal$ $*$ $mol^{-1}$."
   ]
  },
  {
   "cell_type": "code",
   "execution_count": 11,
   "metadata": {},
   "outputs": [
    {
     "name": "stdout",
     "output_type": "stream",
     "text": [
      "\n"
     ]
    }
   ],
   "source": [
    "rna(an)"
   ]
  },
  {
   "attachments": {},
   "cell_type": "markdown",
   "metadata": {},
   "source": [
    "### AND-1\n",
    "![my_image](images/and1.svg)"
   ]
  },
  {
   "cell_type": "markdown",
   "metadata": {},
   "source": [
    "This structure looks very similar to that obtained in the paper. This structure has the correct number of stems and the stems have the same base pairings. Because this should be inactive, the RED regions should not base pair with each other, which they don't.\n",
    "\n",
    "The paper says that this inactive state is energetically more favorable than the on state or the transition states at 37&deg;C, so we should expect this algorithm to have correctly found the structure by computing the most stable structure from the sequence."
   ]
  },
  {
   "cell_type": "code",
   "execution_count": 12,
   "metadata": {},
   "outputs": [
    {
     "name": "stdout",
     "output_type": "stream",
     "text": [
      "\n"
     ]
    }
   ],
   "source": [
    "rna(or1)"
   ]
  },
  {
   "attachments": {},
   "cell_type": "markdown",
   "metadata": {},
   "source": [
    "### OR-1\n",
    "![my_image](images/or1.svg)"
   ]
  },
  {
   "cell_type": "markdown",
   "metadata": {},
   "source": [
    "This structure is also the same as the structure predicted in the paper for OR-1. They both have the same stems and same base pairs bonded with each other. One of the base pairs from the RED regions are bonded to each other, just as described in the paper.\n",
    "    \n",
    "This also makes sense because this is the most stable state of the protein, being more stable than the on state at 37&deg;C"
   ]
  },
  {
   "cell_type": "markdown",
   "metadata": {},
   "source": [
    "## Part 3\n",
    "Look at structure of sequences when OBS is bound"
   ]
  },
  {
   "cell_type": "code",
   "execution_count": 13,
   "metadata": {},
   "outputs": [
    {
     "name": "stdout",
     "output_type": "stream",
     "text": [
      "25\n",
      ".........................xxxxxxxxxxxxxxxxxxxxxxx................................\n",
      "43\n",
      "...........................................xxxxxxxxxxxxxxxxxxxxxxx..........................\n"
     ]
    }
   ],
   "source": [
    "cons = []\n",
    "for i in [0,1]:\n",
    "    lower = int(riboswitch['OBS-1 Start-End'][i].split('-')[0])-1\n",
    "    upper = int(riboswitch['OBS-1 Start-End'][i].split('-')[1])-1\n",
    "    cseq = ''\n",
    "    print(lower)\n",
    "    for s in range(len(total[i])):\n",
    "        #print(s)\n",
    "        if s >= lower and s <= upper:\n",
    "            cseq+='x'\n",
    "        else:\n",
    "            cseq+='.'\n",
    "    print(cseq)\n",
    "    cons.append(cseq)"
   ]
  },
  {
   "cell_type": "code",
   "execution_count": 14,
   "metadata": {},
   "outputs": [
    {
     "name": "stdout",
     "output_type": "stream",
     "text": [
      ".............................xxxxxxxxxxxxxxxx...................................................................\n",
      "................................................xxxxxxxxxxxxxxxx................................................\n",
      ".............................xxxxxxxxxxxxxxxx...xxxxxxxxxxxxxxxx................................................\n",
      "..........................xxxxxxxxxxxxxxxxxxxx.........................................................\n",
      "..............................................xxxxxxxxxxxxxxxxxxxx.....................................\n",
      "..........................xxxxxxxxxxxxxxxxxxxxxxxxxxxxxxxxxxxxxxxx.....................................\n"
     ]
    }
   ],
   "source": [
    "alland=[]\n",
    "lower = int(riboswitch['OBS-1 Start-End'][2].split('-')[0])-1\n",
    "upper = int(riboswitch['OBS-1 Start-End'][2].split('-')[1])-1\n",
    "lower2 = int(riboswitch['OBS-2 Start-End'][2].split('-')[0])-1\n",
    "upper2 = int(riboswitch['OBS-2 Start-End'][2].split('-')[1])-1\n",
    "for i in range(3):\n",
    "    cseq = ''\n",
    "    for s in range(len(an)):\n",
    "        if i==0:\n",
    "            cond = s >= lower and s <= upper\n",
    "        elif i==1:\n",
    "            cond = s >= lower2 and s <= upper2\n",
    "        elif i==2:\n",
    "            cond = (s >= lower and s <= upper) or (s >= lower2 and s <= upper2)\n",
    "        else:\n",
    "            break\n",
    "            \n",
    "        if cond:\n",
    "            cseq+='x'\n",
    "        else:\n",
    "            cseq+='.'\n",
    "    alland.append(cseq)\n",
    "    print(cseq)\n",
    "    \n",
    "allor=[]\n",
    "lower = int(riboswitch['OBS-1 Start-End'][3].split('-')[0])-1\n",
    "upper= int(riboswitch['OBS-1 Start-End'][3].split('-')[1])-1\n",
    "lower2 = int(riboswitch['OBS-2 Start-End'][3].split('-')[0])-1\n",
    "upper2 = int(riboswitch['OBS-2 Start-End'][3].split('-')[1])-1\n",
    "for i in range(3):\n",
    "    cseq = ''\n",
    "    for s in range(len(or1)):\n",
    "        if i==0:\n",
    "            cond = s >= lower and s <= upper\n",
    "        elif i==1:\n",
    "            cond = s >= lower2 and s <= upper2\n",
    "        elif i==2:\n",
    "            cond = (s >= lower and s <= upper) or (s >= lower2 and s <= upper2)\n",
    "        else:\n",
    "            break\n",
    "            \n",
    "        if cond:\n",
    "            cseq+='x'\n",
    "        else:\n",
    "            cseq+='.'\n",
    "    allor.append(cseq)\n",
    "    print(cseq)"
   ]
  },
  {
   "cell_type": "code",
   "execution_count": 17,
   "metadata": {},
   "outputs": [
    {
     "name": "stdout",
     "output_type": "stream",
     "text": [
      "\n"
     ]
    }
   ],
   "source": [
    "rna(yes,cons[0])"
   ]
  },
  {
   "attachments": {},
   "cell_type": "markdown",
   "metadata": {},
   "source": [
    "### YES-1 OBS\n",
    "![my_image](images/yes1-1.svg)"
   ]
  },
  {
   "cell_type": "markdown",
   "metadata": {},
   "source": [
    "This sequence is the same as the one described in the paper, and now this folding structure is correct because the paper describes that this structure is more stable than the inactive state, so the algorithm would automatically generate this as the best fit for the RNA. The RED regions of the RNA are also now base-paired, as they should be"
   ]
  },
  {
   "cell_type": "code",
   "execution_count": 18,
   "metadata": {},
   "outputs": [
    {
     "name": "stdout",
     "output_type": "stream",
     "text": [
      "\n"
     ]
    }
   ],
   "source": [
    "rna(no,cons[1])"
   ]
  },
  {
   "attachments": {},
   "cell_type": "markdown",
   "metadata": {},
   "source": [
    "### NOT-1 OBS\n",
    "![my_image](images/not1-1.svg)"
   ]
  },
  {
   "cell_type": "markdown",
   "metadata": {},
   "source": [
    "This structure is also the same as the OBS bound structure described in the paper for NOT-1. The RED regions are not lined up, and this makes sense because this structure should be inactive."
   ]
  },
  {
   "cell_type": "markdown",
   "metadata": {},
   "source": [
    "### AND-1 OBS (three possibilities)"
   ]
  },
  {
   "cell_type": "code",
   "execution_count": 19,
   "metadata": {},
   "outputs": [
    {
     "name": "stdout",
     "output_type": "stream",
     "text": [
      "\n"
     ]
    }
   ],
   "source": [
    "rna(an,alland[0])"
   ]
  },
  {
   "cell_type": "markdown",
   "metadata": {},
   "source": [
    "#### OBS 1"
   ]
  },
  {
   "attachments": {},
   "cell_type": "markdown",
   "metadata": {},
   "source": [
    "![my_image](images/and1-1.svg)"
   ]
  },
  {
   "cell_type": "markdown",
   "metadata": {},
   "source": [
    "OBS 1 is not the exact same as the structure described in the paper as it is missing some base pairing that the structure paper describes, but the RED regions of the bases are not overlapping in this structure. There is also an extra stem near the bottom. In this state, it should be inactive."
   ]
  },
  {
   "cell_type": "code",
   "execution_count": 20,
   "metadata": {},
   "outputs": [
    {
     "name": "stdout",
     "output_type": "stream",
     "text": [
      "\n"
     ]
    }
   ],
   "source": [
    "rna(an,alland[1])"
   ]
  },
  {
   "cell_type": "markdown",
   "metadata": {},
   "source": [
    "#### OBS 2"
   ]
  },
  {
   "attachments": {},
   "cell_type": "markdown",
   "metadata": {},
   "source": [
    "![my_image](images/and1-2.svg)"
   ]
  },
  {
   "cell_type": "markdown",
   "metadata": {},
   "source": [
    "This structure is also not the exact same as the structure described in the paper for binding at OBS-2, evident through the appearance of the stem closest to the unbound OBS-2 region. However, the RED regions are still not overlapping here, so there should be no activity also."
   ]
  },
  {
   "cell_type": "code",
   "execution_count": 21,
   "metadata": {},
   "outputs": [
    {
     "name": "stdout",
     "output_type": "stream",
     "text": [
      "\n"
     ]
    }
   ],
   "source": [
    "rna(an,alland[2])"
   ]
  },
  {
   "attachments": {},
   "cell_type": "markdown",
   "metadata": {},
   "source": [
    "### OBS 1 and 2\n",
    "![my_image](images/and1-12.svg)"
   ]
  },
  {
   "cell_type": "markdown",
   "metadata": {},
   "source": [
    "This structure is also not the same as the structure depicted in the paper. For one, the RED regions do not overlap in this structure. This means that based on the algorithm that we used to calculate structure, this riboswitch should not work as an AND gate because of the lack of overlap of RED regions. We might have obtained different results because this structure is less stable than the structure with unbound OBS sites, or because of other paramaters they used to create the RNA structure. "
   ]
  },
  {
   "cell_type": "markdown",
   "metadata": {},
   "source": [
    "### OR-1 (Three Possibilities)"
   ]
  },
  {
   "cell_type": "code",
   "execution_count": 22,
   "metadata": {},
   "outputs": [
    {
     "name": "stdout",
     "output_type": "stream",
     "text": [
      "\n"
     ]
    }
   ],
   "source": [
    "rna(or1,allor[0])"
   ]
  },
  {
   "attachments": {},
   "cell_type": "markdown",
   "metadata": {},
   "source": [
    "#### OBS 1\n",
    "![my_image](images/or1-1.svg)"
   ]
  },
  {
   "cell_type": "markdown",
   "metadata": {},
   "source": [
    "This structure is different from the structure described in the paper. The RED groups do not align with each other, which means that it would be inactive when it should be active"
   ]
  },
  {
   "cell_type": "code",
   "execution_count": 23,
   "metadata": {},
   "outputs": [
    {
     "name": "stdout",
     "output_type": "stream",
     "text": [
      "\n"
     ]
    }
   ],
   "source": [
    "rna(or1,allor[1])"
   ]
  },
  {
   "attachments": {},
   "cell_type": "markdown",
   "metadata": {},
   "source": [
    "#### OBS 2\n",
    "![my_image](images/or1-2.svg)"
   ]
  },
  {
   "cell_type": "markdown",
   "metadata": {},
   "source": [
    "This structure is the same as the structure described in the paper. As such, the RED regions are overlapping. This implies that this structure should be active, as it should be if this is an OR gate."
   ]
  },
  {
   "cell_type": "code",
   "execution_count": 24,
   "metadata": {},
   "outputs": [
    {
     "name": "stdout",
     "output_type": "stream",
     "text": [
      "\n"
     ]
    }
   ],
   "source": [
    "rna(or1,allor[2])"
   ]
  },
  {
   "attachments": {},
   "cell_type": "markdown",
   "metadata": {},
   "source": [
    "#### OBS 1 and OBS 2\n",
    "![my_image](images/or1-12.svg)"
   ]
  },
  {
   "cell_type": "markdown",
   "metadata": {},
   "source": [
    "This structure is the same as the OBS-2 structure, and because of this it is also the same as the paper, since all of the OR gates with a OBS bound should look the same. Because of this, the RED regions are bonded together, making this an active ribozyme that can cleave. This should be true if this is an OR gate"
   ]
  },
  {
   "cell_type": "markdown",
   "metadata": {},
   "source": [
    "## Part 4"
   ]
  },
  {
   "cell_type": "markdown",
   "metadata": {},
   "source": [
    "From the data gathered so far, we can conclude that for the AND-1 gate:\n",
    "\n",
    "F/F = F, T/F = F, F/T = F, and T/T = F\n",
    "\n",
    "and for the OR-1 gate:\n",
    "\n",
    "F/F = F, T/F = F, F/T = T, and T/T = T\n",
    "\n",
    "where the first entry is OBS1 and the second is OBS2"
   ]
  },
  {
   "cell_type": "markdown",
   "metadata": {},
   "source": [
    "We can display this in a logic table as such..."
   ]
  },
  {
   "cell_type": "code",
   "execution_count": 131,
   "metadata": {},
   "outputs": [
    {
     "data": {
      "text/html": [
       "<div>\n",
       "<style scoped>\n",
       "    .dataframe tbody tr th:only-of-type {\n",
       "        vertical-align: middle;\n",
       "    }\n",
       "\n",
       "    .dataframe tbody tr th {\n",
       "        vertical-align: top;\n",
       "    }\n",
       "\n",
       "    .dataframe thead th {\n",
       "        text-align: right;\n",
       "    }\n",
       "</style>\n",
       "<table border=\"1\" class=\"dataframe\">\n",
       "  <thead>\n",
       "    <tr style=\"text-align: right;\">\n",
       "      <th></th>\n",
       "      <th>OBS1 bound</th>\n",
       "      <th>OBS2 bound</th>\n",
       "      <th>OR-1 Active</th>\n",
       "      <th>AND-1 Active</th>\n",
       "    </tr>\n",
       "  </thead>\n",
       "  <tbody>\n",
       "    <tr>\n",
       "      <th>0</th>\n",
       "      <td>F</td>\n",
       "      <td>F</td>\n",
       "      <td>F</td>\n",
       "      <td>F</td>\n",
       "    </tr>\n",
       "    <tr>\n",
       "      <th>1</th>\n",
       "      <td>T</td>\n",
       "      <td>F</td>\n",
       "      <td>F</td>\n",
       "      <td>F</td>\n",
       "    </tr>\n",
       "    <tr>\n",
       "      <th>2</th>\n",
       "      <td>F</td>\n",
       "      <td>T</td>\n",
       "      <td>T</td>\n",
       "      <td>F</td>\n",
       "    </tr>\n",
       "    <tr>\n",
       "      <th>3</th>\n",
       "      <td>T</td>\n",
       "      <td>T</td>\n",
       "      <td>T</td>\n",
       "      <td>F</td>\n",
       "    </tr>\n",
       "  </tbody>\n",
       "</table>\n",
       "</div>"
      ],
      "text/plain": [
       "  OBS1 bound OBS2 bound OR-1 Active AND-1 Active\n",
       "0          F          F           F            F\n",
       "1          T          F           F            F\n",
       "2          F          T           T            F\n",
       "3          T          T           T            F"
      ]
     },
     "execution_count": 131,
     "metadata": {},
     "output_type": "execute_result"
    }
   ],
   "source": [
    "l = {'OBS1 bound':['F','T','F','T'],\n",
    "    'OBS2 bound':['F','F','T','T'],\n",
    "    'AND-1 Active':['F','F','F','F'],\n",
    "    'OR-1 Active':['F','F','T','T']}\n",
    "df = pd.DataFrame(data=l)\n",
    "cols = df.columns.tolist()\n",
    "cols = cols[1:] + [(cols[0])]\n",
    "logic = df[cols]\n",
    "logic"
   ]
  },
  {
   "cell_type": "markdown",
   "metadata": {},
   "source": [
    "Based on my results, this suggests that the AND and OR gates do not function as they are described in the paper. This is because the AND gate is not active (the RED regions do not bond) when both OBS sites are bound, and because the OR gate is not active (the RED regions do not bond) when the OBS1 site is bound but the OBS2 site isn't. Again, this could be because of different parameters that were used in the paper to calculate these structures. "
   ]
  }
 ],
 "metadata": {
  "kernelspec": {
   "display_name": "Python 3",
   "language": "python",
   "name": "python3"
  },
  "language_info": {
   "codemirror_mode": {
    "name": "ipython",
    "version": 3
   },
   "file_extension": ".py",
   "mimetype": "text/x-python",
   "name": "python",
   "nbconvert_exporter": "python",
   "pygments_lexer": "ipython3",
   "version": "3.5.2"
  }
 },
 "nbformat": 4,
 "nbformat_minor": 2
}
