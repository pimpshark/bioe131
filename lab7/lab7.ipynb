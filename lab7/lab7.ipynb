{
 "cells": [
  {
   "cell_type": "markdown",
   "metadata": {},
   "source": [
    "# Lab 7"
   ]
  },
  {
   "cell_type": "markdown",
   "metadata": {},
   "source": [
    "## Part 1: Create binary/nucleotide files\n",
    "\n",
    "Will create three types of files, a 100 megabyte binary file with varying amounts of 0 and 1, and a DNA file with 100 million letters and a protein file with 100 million letters. \n",
    "\n",
    "The binary files will have 100%, 90%, 70%, 60%, and 50% 0s each. "
   ]
  },
  {
   "cell_type": "code",
   "execution_count": 12,
   "metadata": {},
   "outputs": [],
   "source": [
    "import numpy as np\n",
    "import pandas as pd"
   ]
  },
  {
   "cell_type": "code",
   "execution_count": 28,
   "metadata": {},
   "outputs": [
    {
     "data": {
      "text/plain": [
       "[0.5, 0.5]"
      ]
     },
     "execution_count": 28,
     "metadata": {},
     "output_type": "execute_result"
    }
   ],
   "source": [
    "[1-.5,.5]"
   ]
  },
  {
   "cell_type": "code",
   "execution_count": 49,
   "metadata": {},
   "outputs": [],
   "source": [
    "def binfile(prob, out):\n",
    "    probs=[prob,1-prob]\n",
    "    print(probs)\n",
    "    myvar = np.random.choice([0,1], size=800000000, replace=True, p=probs)\n",
    "    myvar = np.packbits(myvar)\n",
    "    open(out, 'wb').write(myvar)"
   ]
  },
  {
   "cell_type": "code",
   "execution_count": 50,
   "metadata": {},
   "outputs": [
    {
     "name": "stdout",
     "output_type": "stream",
     "text": [
      "[0.5, 0.5]\n"
     ]
    }
   ],
   "source": [
    "binfile(.5,'test')"
   ]
  },
  {
   "cell_type": "code",
   "execution_count": 40,
   "metadata": {},
   "outputs": [
    {
     "name": "stdout",
     "output_type": "stream",
     "text": [
      "[0.9, 0.09999999999999998]\n",
      "[0.8, 0.19999999999999996]\n",
      "[0.7, 0.30000000000000004]\n",
      "[0.6, 0.4]\n",
      "[0.5, 0.5]\n"
     ]
    }
   ],
   "source": [
    "binfile(.9,'zero90')\n",
    "binfile(.8,'zero80')\n",
    "binfile(.7,'zero70')\n",
    "binfile(.6,'zero60')\n",
    "binfile(.5,'zero50')"
   ]
  },
  {
   "cell_type": "code",
   "execution_count": 45,
   "metadata": {},
   "outputs": [],
   "source": [
    "def seqfile(types, out):\n",
    "    if 'p' in types.lower():\n",
    "        seqs=['A','R','N','D','B','C','E','Q','Z','G','H','I','L','K','M','F','P','S','T','W','Y','V']\n",
    "    elif 'n' in types.lower():\n",
    "        seqs=['A','C','G','T']\n",
    "    myvar = np.random.choice(seqs, size=100000000, replace=True)\n",
    "    print(len(myvar))\n",
    "    open(out, 'w').write(''.join(myvar))"
   ]
  },
  {
   "cell_type": "code",
   "execution_count": 46,
   "metadata": {},
   "outputs": [
    {
     "name": "stdout",
     "output_type": "stream",
     "text": [
      "100000000\n",
      "100000000\n"
     ]
    }
   ],
   "source": [
    "seqfile('nucleotide','nucltest.fa')\n",
    "seqfile('protein','protest.fa')"
   ]
  },
  {
   "cell_type": "markdown",
   "metadata": {},
   "source": [
    "## Part 2: Compression of files\n",
    "\n",
    "I ran the following line in terminal to compress all of the files:\n",
    "\n",
    "`time gzip -k nucl.fa && time bzip2 -k nucl.fa && ls -l && time pbzip2 -f -k nucl.fa && time ArithmeticCompress nucl.fa nucl.art`"
   ]
  },
  {
   "cell_type": "markdown",
   "metadata": {},
   "source": [
    "This line ran all of the compression algorithms for a specified filename, with the above being the nucl.fa file, though the filename was switched to be the relevant files (zero100, zero90, ...). Since pbzip2 outputs a file with the same naming convention of bzip2, I included ls -l before pbzip2 to see the size of the bzip2 output before pbzip2 deleted the bzip2 file. "
   ]
  },
  {
   "cell_type": "code",
   "execution_count": 42,
   "metadata": {},
   "outputs": [
    {
     "data": {
      "text/html": [
       "<div>\n",
       "<style scoped>\n",
       "    .dataframe tbody tr th:only-of-type {\n",
       "        vertical-align: middle;\n",
       "    }\n",
       "\n",
       "    .dataframe tbody tr th {\n",
       "        vertical-align: top;\n",
       "    }\n",
       "\n",
       "    .dataframe thead th {\n",
       "        text-align: right;\n",
       "    }\n",
       "</style>\n",
       "<table border=\"1\" class=\"dataframe\">\n",
       "  <thead>\n",
       "    <tr style=\"text-align: right;\">\n",
       "      <th></th>\n",
       "      <th>File</th>\n",
       "      <th>gzip time</th>\n",
       "      <th>bzip2 time</th>\n",
       "      <th>pbzip2 time</th>\n",
       "      <th>arithmetic compress time</th>\n",
       "    </tr>\n",
       "  </thead>\n",
       "  <tbody>\n",
       "    <tr>\n",
       "      <th>0</th>\n",
       "      <td>zero100</td>\n",
       "      <td>0.687</td>\n",
       "      <td>0.999</td>\n",
       "      <td>0.105</td>\n",
       "      <td>14.290</td>\n",
       "    </tr>\n",
       "    <tr>\n",
       "      <th>1</th>\n",
       "      <td>zero90</td>\n",
       "      <td>17.943</td>\n",
       "      <td>10.147</td>\n",
       "      <td>0.764</td>\n",
       "      <td>27.453</td>\n",
       "    </tr>\n",
       "    <tr>\n",
       "      <th>2</th>\n",
       "      <td>zero80</td>\n",
       "      <td>12.775</td>\n",
       "      <td>11.382</td>\n",
       "      <td>0.948</td>\n",
       "      <td>33.781</td>\n",
       "    </tr>\n",
       "    <tr>\n",
       "      <th>3</th>\n",
       "      <td>zero70</td>\n",
       "      <td>5.968</td>\n",
       "      <td>13.168</td>\n",
       "      <td>1.108</td>\n",
       "      <td>37.807</td>\n",
       "    </tr>\n",
       "    <tr>\n",
       "      <th>4</th>\n",
       "      <td>zero60</td>\n",
       "      <td>4.123</td>\n",
       "      <td>14.942</td>\n",
       "      <td>1.383</td>\n",
       "      <td>39.240</td>\n",
       "    </tr>\n",
       "    <tr>\n",
       "      <th>5</th>\n",
       "      <td>zero50</td>\n",
       "      <td>3.460</td>\n",
       "      <td>15.870</td>\n",
       "      <td>1.418</td>\n",
       "      <td>39.019</td>\n",
       "    </tr>\n",
       "    <tr>\n",
       "      <th>6</th>\n",
       "      <td>nucl.fa</td>\n",
       "      <td>12.140</td>\n",
       "      <td>9.513</td>\n",
       "      <td>0.644</td>\n",
       "      <td>21.426</td>\n",
       "    </tr>\n",
       "    <tr>\n",
       "      <th>7</th>\n",
       "      <td>pro.fa</td>\n",
       "      <td>4.174</td>\n",
       "      <td>10.125</td>\n",
       "      <td>0.774</td>\n",
       "      <td>28.928</td>\n",
       "    </tr>\n",
       "  </tbody>\n",
       "</table>\n",
       "</div>"
      ],
      "text/plain": [
       "      File  gzip time  bzip2 time  pbzip2 time  arithmetic compress time\n",
       "0  zero100      0.687       0.999        0.105                    14.290\n",
       "1   zero90     17.943      10.147        0.764                    27.453\n",
       "2   zero80     12.775      11.382        0.948                    33.781\n",
       "3   zero70      5.968      13.168        1.108                    37.807\n",
       "4   zero60      4.123      14.942        1.383                    39.240\n",
       "5   zero50      3.460      15.870        1.418                    39.019\n",
       "6  nucl.fa     12.140       9.513        0.644                    21.426\n",
       "7   pro.fa      4.174      10.125        0.774                    28.928"
      ]
     },
     "execution_count": 42,
     "metadata": {},
     "output_type": "execute_result"
    }
   ],
   "source": [
    "d = {'File':['zero100','zero90','zero80','zero70','zero60','zero50','nucl.fa','pro.fa'],\n",
    "    'gzip time':[.687,17.943,12.775,5.968,4.123,3.46,12.14,4.174],\n",
    "    'bzip2 time':[.999,10.147,11.382,13.168,14.942,15.87,9.513,10.125],\n",
    "    'pbzip2 time':[.105,.764,.948,1.108,1.383,1.418,.644,.774],\n",
    "    'arithmetic compress time':[14.29,27.453,33.781,37.807,39.24,39.019,21.426,28.928]}\n",
    "df = pd.DataFrame(data=d)\n",
    "df"
   ]
  },
  {
   "cell_type": "code",
   "execution_count": 44,
   "metadata": {},
   "outputs": [
    {
     "data": {
      "text/html": [
       "<div>\n",
       "<style scoped>\n",
       "    .dataframe tbody tr th:only-of-type {\n",
       "        vertical-align: middle;\n",
       "    }\n",
       "\n",
       "    .dataframe tbody tr th {\n",
       "        vertical-align: top;\n",
       "    }\n",
       "\n",
       "    .dataframe thead th {\n",
       "        text-align: right;\n",
       "    }\n",
       "</style>\n",
       "<table border=\"1\" class=\"dataframe\">\n",
       "  <thead>\n",
       "    <tr style=\"text-align: right;\">\n",
       "      <th></th>\n",
       "      <th>File</th>\n",
       "      <th>original space</th>\n",
       "      <th>gzip space</th>\n",
       "      <th>bzip2 space</th>\n",
       "      <th>pbzip2 space</th>\n",
       "      <th>arithmetic compress space</th>\n",
       "    </tr>\n",
       "  </thead>\n",
       "  <tbody>\n",
       "    <tr>\n",
       "      <th>0</th>\n",
       "      <td>zero100</td>\n",
       "      <td>100000000</td>\n",
       "      <td>97079</td>\n",
       "      <td>113</td>\n",
       "      <td>5375</td>\n",
       "      <td>1028</td>\n",
       "    </tr>\n",
       "    <tr>\n",
       "      <th>1</th>\n",
       "      <td>zero90</td>\n",
       "      <td>100000000</td>\n",
       "      <td>56021359</td>\n",
       "      <td>58334020</td>\n",
       "      <td>58355762</td>\n",
       "      <td>46905685</td>\n",
       "    </tr>\n",
       "    <tr>\n",
       "      <th>2</th>\n",
       "      <td>zero80</td>\n",
       "      <td>100000000</td>\n",
       "      <td>77399089</td>\n",
       "      <td>82629366</td>\n",
       "      <td>82644332</td>\n",
       "      <td>72193021</td>\n",
       "    </tr>\n",
       "    <tr>\n",
       "      <th>3</th>\n",
       "      <td>zero70</td>\n",
       "      <td>100000000</td>\n",
       "      <td>89283217</td>\n",
       "      <td>95141110</td>\n",
       "      <td>95147435</td>\n",
       "      <td>88132664</td>\n",
       "    </tr>\n",
       "    <tr>\n",
       "      <th>4</th>\n",
       "      <td>zero60</td>\n",
       "      <td>100000000</td>\n",
       "      <td>97673081</td>\n",
       "      <td>100051721</td>\n",
       "      <td>100056832</td>\n",
       "      <td>97095393</td>\n",
       "    </tr>\n",
       "    <tr>\n",
       "      <th>5</th>\n",
       "      <td>zero50</td>\n",
       "      <td>100000000</td>\n",
       "      <td>100015959</td>\n",
       "      <td>100445844</td>\n",
       "      <td>100450966</td>\n",
       "      <td>100001009</td>\n",
       "    </tr>\n",
       "    <tr>\n",
       "      <th>6</th>\n",
       "      <td>nucl.fa</td>\n",
       "      <td>100000000</td>\n",
       "      <td>29221462</td>\n",
       "      <td>27334470</td>\n",
       "      <td>27342082</td>\n",
       "      <td>25001028</td>\n",
       "    </tr>\n",
       "    <tr>\n",
       "      <th>7</th>\n",
       "      <td>pro.fa</td>\n",
       "      <td>100000000</td>\n",
       "      <td>61755268</td>\n",
       "      <td>56995814</td>\n",
       "      <td>57005023</td>\n",
       "      <td>55743921</td>\n",
       "    </tr>\n",
       "  </tbody>\n",
       "</table>\n",
       "</div>"
      ],
      "text/plain": [
       "      File  original space  gzip space  bzip2 space  pbzip2 space  \\\n",
       "0  zero100       100000000       97079          113          5375   \n",
       "1   zero90       100000000    56021359     58334020      58355762   \n",
       "2   zero80       100000000    77399089     82629366      82644332   \n",
       "3   zero70       100000000    89283217     95141110      95147435   \n",
       "4   zero60       100000000    97673081    100051721     100056832   \n",
       "5   zero50       100000000   100015959    100445844     100450966   \n",
       "6  nucl.fa       100000000    29221462     27334470      27342082   \n",
       "7   pro.fa       100000000    61755268     56995814      57005023   \n",
       "\n",
       "   arithmetic compress space  \n",
       "0                       1028  \n",
       "1                   46905685  \n",
       "2                   72193021  \n",
       "3                   88132664  \n",
       "4                   97095393  \n",
       "5                  100001009  \n",
       "6                   25001028  \n",
       "7                   55743921  "
      ]
     },
     "execution_count": 44,
     "metadata": {},
     "output_type": "execute_result"
    }
   ],
   "source": [
    "m = {'File':['zero100','zero90','zero80','zero70','zero60','zero50','nucl.fa','pro.fa'],\n",
    "    'original space':[100000000,100000000,100000000,100000000,100000000,100000000,100000000,100000000],\n",
    "    'gzip space':[97079,56021359,77399089,89283217,97673081,100015959,29221462,61755268],\n",
    "    'bzip2 space':[113,58334020,82629366,95141110,100051721,100445844,27334470,56995814],\n",
    "    'pbzip2 space':[5375,58355762,82644332,95147435,100056832,100450966,27342082,57005023],\n",
    "    'arithmetic compress space':[1028,46905685,72193021,88132664,97095393,100001009,25001028,55743921]}\n",
    "mem = pd.DataFrame(data=m)\n",
    "mem"
   ]
  },
  {
   "cell_type": "markdown",
   "metadata": {},
   "source": [
    "1. For all the files except for the 100% zero file, arithmetic coding saves the most space. For the all zero file, bzip2 is the best algorithm. \n",
    "2. pbzip2 is the fastest algorithm for all file types. \n",
    "3. pbzip2 is a version of bzip2 that is intended to run the algorithm in parallel to create a linear increase in speed. So I would expect pbzip2 to be faster since it is running its processes in parallel, unlike bzip2. \n",
    "4. The compression gets worse as the number of zeros decreases, and that is because the average entropy of the file is increasing, so the number of bits required to encode the file is also increasing.\n",
    "5. 2\n",
    "6. 4.32.\n",
    "7. gzip required 2.337 bits per character for DNA and 4.94 bits for protein. bzip required 2.186 bits per character of DNA and 4.559 bits per character for protein.\n",
    "8. They are getting close to the ideal code but are still not reaching it. bzip2 does get closer to being ideal than gzip."
   ]
  },
  {
   "cell_type": "markdown",
   "metadata": {},
   "source": [
    "## Part 3: Compression of gp120 sequences\n",
    "\n",
    "I expect that the compression of this file will be better than the compression of random sequence files because random sequences contain more information than non-random sequences, and genetic sequences are usually not completely random. Since these sequences are homologs, we should also expect compression of all these files to be high because they can be compressed in similar ways."
   ]
  },
  {
   "cell_type": "markdown",
   "metadata": {},
   "source": [
    "I couldn't find gp120 sequences, so I instead took gp160 sequences, which are then cleaved into gp120 sequences. I obtained my sequences from https://www.ncbi.nlm.nih.gov/genome/genomes/10319"
   ]
  },
  {
   "cell_type": "code",
   "execution_count": 47,
   "metadata": {},
   "outputs": [
    {
     "data": {
      "text/plain": [
       "array([3.82891816, 4.04060597, 3.00034791])"
      ]
     },
     "execution_count": 47,
     "metadata": {},
     "output_type": "execute_result"
    }
   ],
   "source": [
    "compressed=np.array([6757,6403,8623])\n",
    "og=25872\n",
    "og/compressed"
   ]
  },
  {
   "cell_type": "code",
   "execution_count": 48,
   "metadata": {},
   "outputs": [
    {
     "data": {
      "text/plain": [
       "array([3.65838445, 3.65736596, 3.99983553])"
      ]
     },
     "execution_count": 48,
     "metadata": {},
     "output_type": "execute_result"
    }
   ],
   "source": [
    "compressedran=np.array([27334470,27342082,25001028])\n",
    "ogran=100000000\n",
    "ogran/compressedran"
   ]
  },
  {
   "cell_type": "markdown",
   "metadata": {},
   "source": [
    "original=25872\n",
    "\n",
    "gzip=6757\n",
    "\n",
    "bzip=6403\n",
    "\n",
    "arithcoding=8623"
   ]
  },
  {
   "cell_type": "markdown",
   "metadata": {},
   "source": [
    "The compression ratio for the non random sequences was much better for nearly every algorithm except for arithmetic coding, which actually did worse at compressing the non random data in comparison to the random data. "
   ]
  },
  {
   "cell_type": "markdown",
   "metadata": {},
   "source": [
    "## Part 4: Estimating Compression\n",
    "\n",
    "For the genome data, I would use bzip2 to compress the data because for similar, non-random sequences, bzip performed the best and had the greatest compression ratio. Since the ratio is 4.04, this means that the 800 terabytes of data will ideally be compressed by a factor of 4.04, leaving a total of about 198 terabytes instead. \n",
    "\n",
    "For the protein sequences, I would use arithmetic coding, since I do not know if the protein sequences are random or not and so I will assume the worst case scenario and assume they aren't random. Arithmetic coding compressed the random protein sequences by a factor of 1.79, so the 100 terabytes of data will be compressed into 55.87 terabytes. \n",
    "\n",
    "For the image files, I will also use arithmetic coding because these files are random binary files, and compression with arithmetic coding of random binary files saves more space in comparison to other files. However, since the compressed file of the binary file is actually bigger than the uncompressed file, it would make more sense to leave the binary files uncompressed to maximize the amount of space saved on the hard drive. This is because these files are completely random, so I am comparing it to the 50% zero binary files. So these files will still be 100 terabytes.\n",
    "\n",
    "The amount of terabytes taken up now will be 198+55.87+100, or about 353.87 terabytes. This is a 64.6% increase in the amount of free space. So the bonus for this 64.6% increase in space will be $11,791,946.93, calculated by multiplying 64.6 by 500 (dollars per day per 1%) and then multiplying by 365 (number of days in a year)"
   ]
  }
 ],
 "metadata": {
  "kernelspec": {
   "display_name": "Python 3",
   "language": "python",
   "name": "python3"
  },
  "language_info": {
   "codemirror_mode": {
    "name": "ipython",
    "version": 3
   },
   "file_extension": ".py",
   "mimetype": "text/x-python",
   "name": "python",
   "nbconvert_exporter": "python",
   "pygments_lexer": "ipython3",
   "version": "3.6.6"
  }
 },
 "nbformat": 4,
 "nbformat_minor": 2
}
